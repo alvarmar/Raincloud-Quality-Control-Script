{
 "cells": [
  {
   "cell_type": "code",
   "execution_count": 11,
   "metadata": {},
   "outputs": [
    {
     "name": "stdout",
     "output_type": "stream",
     "text": [
      "     Average Rt(min)  Average Mz  \\\n",
      "0              8.228    678.2912   \n",
      "1              8.228    678.2912   \n",
      "2              8.228    678.2912   \n",
      "3              8.228    678.2912   \n",
      "4              8.228    678.2912   \n",
      "..               ...         ...   \n",
      "210            8.228    678.2912   \n",
      "211            8.228    678.2912   \n",
      "212            8.228    678.2912   \n",
      "213            8.228    678.2912   \n",
      "214            8.228    678.2912   \n",
      "\n",
      "                                           Sample Name       Area  \n",
      "0    20210701_50220_V-10_Ro-65_R-1_Pos_Ironman_H2O-...   92483376  \n",
      "1    20210701_50220_V-11_Ro-55_R-1_Pos_Ironman_H2O-...   95549320  \n",
      "2    20210701_50220_V-12_Ro-61_R-1_Pos_Ironman_H2O-...   95409432  \n",
      "3    20210701_50220_V-15_Ro-26_R-1_Pos_Ironman_H2O-...  104141208  \n",
      "4    20210701_50220_V-16_Ro-45_R-1_Pos_Ironman_H2O-...   92620520  \n",
      "..                                                 ...        ...  \n",
      "210  20210707_50220_V-97_Ro-047_R-2_Pos_Ironman_H2O...   96854552  \n",
      "211  20210707_50220_V-98_Ro-101_R-2_Pos_Ironman_H2O...   60528816  \n",
      "212  20210707_50220_V-99_Ro-093_R-2_Pos_Ironman_H2O...   73139832  \n",
      "213  20210707_50220_V-100_Ro-006_R-2_Pos_Ironman_H2...   95336312  \n",
      "214  20210707_50220_V-101_Ro-054_R-2_Pos_Ironman_H2...  103532880  \n",
      "\n",
      "[215 rows x 4 columns]\n"
     ]
    },
    {
     "data": {
      "image/png": "[encoded data removed]",
      "text/plain": [
       "<Figure size 504x360 with 1 Axes>"
      ]
     },
     "metadata": {
      "needs_background": "light"
     },
     "output_type": "display_data"
    }
   ],
   "source": [
    "#import pandas module\n",
    "import pandas as pd \n",
    "import numpy as np\n",
    "import ptitprince as pt\n",
    "import matplotlib.pyplot as plt \n",
    "import seaborn as sns\n",
    "\n",
    "#creating a dataframe\n",
    "metabolites = pd.read_csv(\"LLNL_alignment2021July.csv\")\n",
    "#filtering for our internal standard. Specify RT and m/z\n",
    "b12 = metabolites[(metabolites[\"Average Rt(min)\"] == 8.228 )& (metabolites[\"Average Mz\"] == 678.2912)]\n",
    "#Dropping unnecesary columns. This section varies depending on type of csv\n",
    "b12 = b12.iloc[:, np.r_[1,2,32: 247]]\n",
    "b12 = b12.melt(id_vars=['Average Rt(min)','Average Mz'], var_name=('Sample Name'),value_name=('Area'))\n",
    "print(b12)\n",
    "###Creating a raincloud (combination of half-violin, box, and strip plots)\n",
    "f, ax = plt.subplots(figsize=(7, 5))\n",
    "dx=\"Area\"; ort=\"h\"; pal = sns.color_palette(\"husl\")\n",
    "ax=pt.half_violinplot( x = dx, data = b12, palette = pal, bw = .2, cut = 0.,scale = \"area\", width = .6, inner = None, orient = ort)\n",
    "ax=sns.stripplot( x = dx, data = b12, palette = pal, edgecolor = \"white\",\n",
    "                 size = 3, jitter = 0, zorder = 0, orient = ort)\n",
    "ax=sns.boxplot( x = dx, data = b12, color = \"black\", width = .15, zorder = 10,\\\n",
    "            showcaps = True, boxprops = {'facecolor':'none', \"zorder\":10},\\\n",
    "            showfliers=True, whiskerprops = {'linewidth':2, \"zorder\":10},\\\n",
    "               saturation = 1, orient = ort)                \n",
    "plt.title(\"B12 Peak Areas Across Samples\")\n",
    "plt.xlabel(\"EIC Peak Areas\")\n",
    "plt.ylabel(\"Samples\")\n",
    "plt.savefig(\"B12_Distribution Across Samples.png\")\n",
    "\n",
    "\n"
   ]
  },
  {
   "cell_type": "code",
   "execution_count": 16,
   "metadata": {},
   "outputs": [
    {
     "data": {
      "text/html": [
       "<div>\n",
       "<style scoped>\n",
       "    .dataframe tbody tr th:only-of-type {\n",
       "        vertical-align: middle;\n",
       "    }\n",
       "\n",
       "    .dataframe tbody tr th {\n",
       "        vertical-align: top;\n",
       "    }\n",
       "\n",
       "    .dataframe thead th {\n",
       "        text-align: right;\n",
       "    }\n",
       "</style>\n",
       "<table border=\"1\" class=\"dataframe\">\n",
       "  <thead>\n",
       "    <tr style=\"text-align: right;\">\n",
       "      <th></th>\n",
       "      <th>Average Rt(min)</th>\n",
       "      <th>Average Mz</th>\n",
       "      <th>Sample Name</th>\n",
       "      <th>Area</th>\n",
       "    </tr>\n",
       "  </thead>\n",
       "  <tbody>\n",
       "    <tr>\n",
       "      <th>0</th>\n",
       "      <td>8.228</td>\n",
       "      <td>678.2912</td>\n",
       "      <td>20210701_50220_V-10_Ro-65_R-1_Pos_Ironman_H2O-...</td>\n",
       "      <td>92483376</td>\n",
       "    </tr>\n",
       "    <tr>\n",
       "      <th>1</th>\n",
       "      <td>8.228</td>\n",
       "      <td>678.2912</td>\n",
       "      <td>20210701_50220_V-11_Ro-55_R-1_Pos_Ironman_H2O-...</td>\n",
       "      <td>95549320</td>\n",
       "    </tr>\n",
       "    <tr>\n",
       "      <th>2</th>\n",
       "      <td>8.228</td>\n",
       "      <td>678.2912</td>\n",
       "      <td>20210701_50220_V-12_Ro-61_R-1_Pos_Ironman_H2O-...</td>\n",
       "      <td>95409432</td>\n",
       "    </tr>\n",
       "    <tr>\n",
       "      <th>3</th>\n",
       "      <td>8.228</td>\n",
       "      <td>678.2912</td>\n",
       "      <td>20210701_50220_V-15_Ro-26_R-1_Pos_Ironman_H2O-...</td>\n",
       "      <td>104141208</td>\n",
       "    </tr>\n",
       "    <tr>\n",
       "      <th>4</th>\n",
       "      <td>8.228</td>\n",
       "      <td>678.2912</td>\n",
       "      <td>20210701_50220_V-16_Ro-45_R-1_Pos_Ironman_H2O-...</td>\n",
       "      <td>92620520</td>\n",
       "    </tr>\n",
       "    <tr>\n",
       "      <th>...</th>\n",
       "      <td>...</td>\n",
       "      <td>...</td>\n",
       "      <td>...</td>\n",
       "      <td>...</td>\n",
       "    </tr>\n",
       "    <tr>\n",
       "      <th>209</th>\n",
       "      <td>8.228</td>\n",
       "      <td>678.2912</td>\n",
       "      <td>20210707_50220_V-96_Ro-064_R-2_Pos_Ironman_H2O...</td>\n",
       "      <td>113135616</td>\n",
       "    </tr>\n",
       "    <tr>\n",
       "      <th>210</th>\n",
       "      <td>8.228</td>\n",
       "      <td>678.2912</td>\n",
       "      <td>20210707_50220_V-97_Ro-047_R-2_Pos_Ironman_H2O...</td>\n",
       "      <td>96854552</td>\n",
       "    </tr>\n",
       "    <tr>\n",
       "      <th>212</th>\n",
       "      <td>8.228</td>\n",
       "      <td>678.2912</td>\n",
       "      <td>20210707_50220_V-99_Ro-093_R-2_Pos_Ironman_H2O...</td>\n",
       "      <td>73139832</td>\n",
       "    </tr>\n",
       "    <tr>\n",
       "      <th>213</th>\n",
       "      <td>8.228</td>\n",
       "      <td>678.2912</td>\n",
       "      <td>20210707_50220_V-100_Ro-006_R-2_Pos_Ironman_H2...</td>\n",
       "      <td>95336312</td>\n",
       "    </tr>\n",
       "    <tr>\n",
       "      <th>214</th>\n",
       "      <td>8.228</td>\n",
       "      <td>678.2912</td>\n",
       "      <td>20210707_50220_V-101_Ro-054_R-2_Pos_Ironman_H2...</td>\n",
       "      <td>103532880</td>\n",
       "    </tr>\n",
       "  </tbody>\n",
       "</table>\n",
       "<p>191 rows × 4 columns</p>\n",
       "</div>"
      ],
      "text/plain": [
       "     Average Rt(min)  Average Mz  \\\n",
       "0              8.228    678.2912   \n",
       "1              8.228    678.2912   \n",
       "2              8.228    678.2912   \n",
       "3              8.228    678.2912   \n",
       "4              8.228    678.2912   \n",
       "..               ...         ...   \n",
       "209            8.228    678.2912   \n",
       "210            8.228    678.2912   \n",
       "212            8.228    678.2912   \n",
       "213            8.228    678.2912   \n",
       "214            8.228    678.2912   \n",
       "\n",
       "                                           Sample Name       Area  \n",
       "0    20210701_50220_V-10_Ro-65_R-1_Pos_Ironman_H2O-...   92483376  \n",
       "1    20210701_50220_V-11_Ro-55_R-1_Pos_Ironman_H2O-...   95549320  \n",
       "2    20210701_50220_V-12_Ro-61_R-1_Pos_Ironman_H2O-...   95409432  \n",
       "3    20210701_50220_V-15_Ro-26_R-1_Pos_Ironman_H2O-...  104141208  \n",
       "4    20210701_50220_V-16_Ro-45_R-1_Pos_Ironman_H2O-...   92620520  \n",
       "..                                                 ...        ...  \n",
       "209  20210707_50220_V-96_Ro-064_R-2_Pos_Ironman_H2O...  113135616  \n",
       "210  20210707_50220_V-97_Ro-047_R-2_Pos_Ironman_H2O...   96854552  \n",
       "212  20210707_50220_V-99_Ro-093_R-2_Pos_Ironman_H2O...   73139832  \n",
       "213  20210707_50220_V-100_Ro-006_R-2_Pos_Ironman_H2...   95336312  \n",
       "214  20210707_50220_V-101_Ro-054_R-2_Pos_Ironman_H2...  103532880  \n",
       "\n",
       "[191 rows x 4 columns]"
      ]
     },
     "execution_count": 16,
     "metadata": {},
     "output_type": "execute_result"
    }
   ],
   "source": [
    "# #Remove samples below the threshold using IQR\n",
    "Q1 = b12['Area'].quantile(0.25)\n",
    "Q3 = b12['Area'].quantile(0.75)\n",
    "IQR = Q3-Q1\n",
    "\n",
    "b12_out = (b12['Area'] >= Q1 - 1.5 * IQR) & (b12['Area'] <= Q3 + 1.5 *IQR)\n",
    "b12_filter = b12.loc[b12_out]\n",
    "b12_filter\n"
   ]
  },
  {
   "cell_type": "code",
   "execution_count": 13,
   "metadata": {},
   "outputs": [
    {
     "data": {
      "image/png": "[encoded data removed]",
      "text/plain": [
       "<Figure size 504x360 with 1 Axes>"
      ]
     },
     "metadata": {
      "needs_background": "light"
     },
     "output_type": "display_data"
    }
   ],
   "source": [
    "#Creating new raincloud with filtered data \n",
    "f, ax = plt.subplots(figsize=(7, 5))\n",
    "dx=\"Area\"; ort=\"h\"; pal = sns.color_palette(\"husl\")\n",
    "ax=pt.half_violinplot( x = dx, data = b12_filter, palette = pal, bw = .2, cut = 0.,scale = \"area\", width = .6, inner = None, orient = ort)\n",
    "ax=sns.boxplot( x = dx, data = b12_filter, color = \"black\", width = .15, zorder = 10,\\\n",
    "            showcaps = True, boxprops = {'facecolor':'none', \"zorder\":10},\\\n",
    "            showfliers=False, whiskerprops = {'linewidth':2, \"zorder\":10},\\\n",
    "               saturation = 1, orient = ort) \n",
    "ax=sns.stripplot( x = dx, data = b12_filter, palette = pal, edgecolor = \"white\",\n",
    "                 size = 3, jitter = 0, zorder = 0, orient = ort)               \n",
    "plt.title(\"B12 Peak Areas Across Samples\")\n",
    "plt.xlabel(\"EIC Peak Areas\")\n",
    "plt.ylabel(\"Samples\")\n",
    "plt.savefig(\"Distribution Across Samples_QC.png\")"
   ]
  },
  {
   "cell_type": "code",
   "execution_count": 50,
   "metadata": {},
   "outputs": [
    {
     "data": {
      "text/plain": [
       "array([], dtype=bool)"
      ]
     },
     "execution_count": 50,
     "metadata": {},
     "output_type": "execute_result"
    }
   ],
   "source": [
    "from datetime import datetime\n",
    "#Filtering alignment table using the list of quality checked samples. Output is a new datzframe for an alignment table containing only quality checked samples\n",
    "#Only for MSdial formatted csv\n",
    "head_met= metabolites.iloc[:,32:]\n",
    "for col in head_met.columns:\n",
    "    if col not in b12_filter['Sample Name'].unique(): \n",
    "        head_met.drop(columns=[col], inplace=True) \n",
    "#print(head_met)\n",
    "metabolites = metabolites.iloc[:,0:4]\n",
    "metabolites_filter = pd.concat([metabolites, head_met], axis=1)\n",
    "#print(metabolites_filter)\n",
    "#Save new filtered alignment table. Specifiy the required name\n",
    "now_ = datetime.now().strftime('%b_ %d_ %y_ %H_%M_%S')\n",
    "metabolites_filter.to_csv('Alignment_results_' + now_ + '.csv')"
   ]
  },
  {
   "cell_type": "code",
   "execution_count": null,
   "metadata": {},
   "outputs": [],
   "source": []
  }
 ],
 "metadata": {
  "interpreter": {
   "hash": "b89b5cfaba6639976dc87ff2fec6d58faec662063367e2c229c520fe71072417"
  },
  "kernelspec": {
   "display_name": "Python 3.10.2 64-bit",
   "name": "python3"
  },
  "language_info": {
   "codemirror_mode": {
    "name": "ipython",
    "version": 3
   },
   "file_extension": ".py",
   "mimetype": "text/x-python",
   "name": "python",
   "nbconvert_exporter": "python",
   "pygments_lexer": "ipython3",
   "version": "3.10.2"
  },
  "orig_nbformat": 4
 },
 "nbformat": 4,
 "nbformat_minor": 2
}
